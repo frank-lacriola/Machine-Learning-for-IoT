{
 "cells": [
  {
   "cell_type": "code",
   "execution_count": 2,
   "id": "70895ded-8619-4791-948e-2e738579de93",
   "metadata": {},
   "outputs": [
    {
     "name": "stdout",
     "output_type": "stream",
     "text": [
      "/home/pi/WORK_DIR/notebooks/Ex_Frank/LABS\n"
     ]
    }
   ],
   "source": [
    "cd .."
   ]
  },
  {
   "cell_type": "code",
   "execution_count": 6,
   "id": "f0843f45-16f8-496c-9fe9-ad20fbc0bf89",
   "metadata": {},
   "outputs": [
    {
     "data": {
      "text/plain": [
       "'/home/pi/WORK_DIR/notebooks/Ex_Frank/LABS'"
      ]
     },
     "execution_count": 6,
     "metadata": {},
     "output_type": "execute_result"
    }
   ],
   "source": [
    "pwd"
   ]
  },
  {
   "cell_type": "markdown",
   "id": "2d15f0c3-6e21-4f98-8fe2-137a85c6026c",
   "metadata": {
    "tags": []
   },
   "source": [
    "# 1.1"
   ]
  },
  {
   "cell_type": "code",
   "execution_count": 8,
   "id": "a361eeea-b5af-4493-b7da-328eaa433d59",
   "metadata": {},
   "outputs": [],
   "source": [
    "from Lab3.lab3_ex1 import WindowGenerator\n",
    "import argparse\n",
    "import numpy as np\n",
    "import os\n",
    "import pandas as pd\n",
    "import tensorflow as tf\n",
    "from tensorflow import keras"
   ]
  },
  {
   "cell_type": "code",
   "execution_count": 10,
   "id": "f40052e0-0b7a-45db-b349-da96c8e169ae",
   "metadata": {},
   "outputs": [],
   "source": [
    "parser = argparse.ArgumentParser()\n",
    "parser.add_argument('--model', type=str, help='model name among mlp cnn and lstm')\n",
    "parser.add_argument('--labels', type=int, default=0,\n",
    "                    help='0 for temp forecasting, 1 for hum forecasting, 2 or more for both')\n",
    "#parser.add_argument('--saved_model_dir', type=str, default=None)\n",
    "args = parser.parse_args(['--labels=2'])"
   ]
  },
  {
   "cell_type": "code",
   "execution_count": 11,
   "id": "48b70d4f-b6e3-4a51-8bc9-ca15135e40da",
   "metadata": {
    "tags": []
   },
   "outputs": [],
   "source": [
    "seed = 42\n",
    "tf.random.set_seed(seed)\n",
    "np.random.seed(seed)\n",
    "\n",
    "zip_path = \"Lab3/data/jena_climate_2009_2016.csv.zip\"\n",
    "\n",
    "csv_path, _ = os.path.splitext(zip_path)\n",
    "df = pd.read_csv(csv_path)\n",
    "\n",
    "column_indices = [2, 5]\n",
    "columns = df.columns[column_indices]\n",
    "data = df[columns].values.astype(np.float32)\n",
    "\n",
    "n = len(data)\n",
    "train_data = data[0:int(n * 0.7)]\n",
    "val_data = data[int(n * 0.7):int(n * 0.9)]\n",
    "test_data = data[int(n * 0.9):]\n",
    "\n",
    "mean = train_data.mean(axis=0)\n",
    "std = train_data.std(axis=0)\n",
    "\n",
    "input_width = 6\n",
    "LABEL_OPTIONS = args.labels\n",
    "\n",
    "generator = WindowGenerator(input_width, LABEL_OPTIONS, mean, std)\n",
    "train_ds = generator.make_dataset(train_data, True)\n",
    "val_ds = generator.make_dataset(val_data, False)\n",
    "test_ds = generator.make_dataset(test_data, False)\n",
    "\n",
    "# Let's save datasets on disk\n",
    "tf.data.experimental.save(train_ds, './Lab4/th_train')\n",
    "tf.data.experimental.save(val_ds, './Lab4/th_val')\n",
    "tf.data.experimental.save(test_ds, './Lab4/th_test')"
   ]
  },
  {
   "cell_type": "markdown",
   "id": "1b6d28f7-60ec-49a5-aed6-ed132d2c5c8a",
   "metadata": {},
   "source": [
    "To load a previously saved dataset, you need to specify element_spec, a type signature of the elements of the saved dataset, which can be obtained via tf.data.Dataset.element_spec. This requirement exists so that shape inference of the loaded dataset does not need to perform I/O.\n",
    "\n"
   ]
  },
  {
   "cell_type": "code",
   "execution_count": 12,
   "id": "e70180ae-ca85-492f-9991-d38ae862518e",
   "metadata": {},
   "outputs": [],
   "source": [
    "tensor_specs = (tf.TensorSpec([None, 6, 2], dtype=tf.float32),\n",
    "                tf.TensorSpec([None, 2]))\n",
    "#train_ds = tf.data.experimental.load('./Lab4/th_train', tensor_specs)\n",
    "#val_ds = tf.data.experimental.load('./Lab4/th_val', tensor_specs)\n",
    "#test_ds = tf.data.experimental.load('./Lab4/th_test', tensor_specs)"
   ]
  },
  {
   "cell_type": "markdown",
   "id": "5fcc5e2e-720f-4927-b7e7-ccbbfc3f3a47",
   "metadata": {},
   "source": [
    "# 1.2"
   ]
  },
  {
   "cell_type": "code",
   "execution_count": 9,
   "id": "c609eabe-add4-4fe1-b5c3-502daef504e9",
   "metadata": {},
   "outputs": [
    {
     "name": "stdout",
     "output_type": "stream",
     "text": [
      "Number of inputs: 1\n",
      "Number of outputs: 1\n",
      "Input name: serving_default_conv1d_1_input:0\n",
      "Input shape: [1 6 2]\n",
      "Output shape: [1 2]\n"
     ]
    },
    {
     "name": "stderr",
     "output_type": "stream",
     "text": [
      "INFO: Created TensorFlow Lite XNNPACK delegate for CPU.\n"
     ]
    }
   ],
   "source": [
    "interpreter = tf.lite.Interpreter(model_path=\"Lab4/models/model_{}.tflite\".format(\"cnn_3\"))\n",
    "interpreter.allocate_tensors()\n",
    "\n",
    "input_details = interpreter.get_input_details()\n",
    "output_details = interpreter.get_output_details()\n",
    "                                  \n",
    "print(\"Number of inputs:\", len(input_details))\n",
    "print(\"Number of outputs:\", len(output_details))\n",
    "print(\"Input name:\", input_details[0]['name'])\n",
    "print(\"Input shape:\", input_details[0]['shape'])\n",
    "print(\"Output shape:\", output_details[0]['shape'])"
   ]
  },
  {
   "cell_type": "code",
   "execution_count": 14,
   "id": "6f563eb7-7be4-4947-811f-02aff9fbcfa0",
   "metadata": {},
   "outputs": [],
   "source": [
    "test_ds = tf.data.experimental.load('./Lab4/th_test', tensor_specs)\n",
    "test_data = test_ds.map(lambda a, b: a)\n",
    "test_labels = test_ds.map(lambda a, b: b)"
   ]
  },
  {
   "cell_type": "code",
   "execution_count": 79,
   "id": "1d85b984-c6ec-4dcd-8b94-b06d2d9f2a17",
   "metadata": {},
   "outputs": [],
   "source": [
    "test_data = test_data.unbatch().batch(1)\n",
    "test_labels = test_labels.unbatch().batch(1)"
   ]
  },
  {
   "cell_type": "markdown",
   "id": "700cb259-7f97-4152-b153-daac856bbdd0",
   "metadata": {},
   "source": [
    "Let's generate np arrays"
   ]
  },
  {
   "cell_type": "code",
   "execution_count": 81,
   "id": "a87cd3a1-1aad-4bb2-93e4-4b12552e1fda",
   "metadata": {
    "tags": []
   },
   "outputs": [],
   "source": [
    "# We first iterate over batches\n",
    "for i, (window, labels) in enumerate(zip(test_data.as_numpy_iterator(), test_labels.as_numpy_iterator())):\n",
    "    # Secondly, we iterate over windows\n",
    "    interpreter.set_tensor(input_details[0]['index'], window)\n",
    "    interpreter.invoke()\n",
    "    predicted = interpreter.get_tensor(output_details[0]['index'])\n",
    "\n",
    "    if i==0:\n",
    "        preds = np.array(predicted, dtype=np.float32)\n",
    "        true_labels = np.array(labels, dtype=np.float32)\n",
    "    else:\n",
    "        preds = np.append(preds, predicted, axis=0)\n",
    "        true_labels = np.append(true_labels, labels, axis=0)"
   ]
  },
  {
   "cell_type": "markdown",
   "id": "d2a93d99-c350-49a0-8fd4-b2444606fe22",
   "metadata": {},
   "source": [
    "TRY: np.array(list(dataset.as_numpy_iterator())) "
   ]
  },
  {
   "cell_type": "code",
   "execution_count": 84,
   "id": "3c5a1f70-4b3e-45c5-8c20-990b65b88212",
   "metadata": {
    "tags": []
   },
   "outputs": [],
   "source": [
    "def calculateMAE(actuals, preds):\n",
    "    \"\"\"\n",
    "    Calculate MAE between 2 np vectors.\n",
    "    np: numpy\n",
    "\n",
    "    \"\"\"\n",
    "    return np.mean(np.absolute(actuals - preds))"
   ]
  },
  {
   "cell_type": "code",
   "execution_count": 85,
   "id": "d50eeecb-9a72-4436-9ae0-b013a2685200",
   "metadata": {
    "tags": []
   },
   "outputs": [
    {
     "name": "stdout",
     "output_type": "stream",
     "text": [
      "Temperature MAE:  0.25623897\n",
      "Humidity MAE:  0.7927708\n"
     ]
    }
   ],
   "source": [
    "print(\"Temperature MAE: \", calculateMAE(true_labels[:, 0], preds[:, 0]))\n",
    "print(\"Humidity MAE: \", calculateMAE(true_labels[:, 1], preds[:, 1]))"
   ]
  },
  {
   "cell_type": "code",
   "execution_count": null,
   "id": "0126d29b-6075-4de6-a350-d816b5a74e57",
   "metadata": {},
   "outputs": [],
   "source": []
  }
 ],
 "metadata": {
  "kernelspec": {
   "display_name": "Python 3 (ipykernel)",
   "language": "python",
   "name": "python3"
  },
  "language_info": {
   "codemirror_mode": {
    "name": "ipython",
    "version": 3
   },
   "file_extension": ".py",
   "mimetype": "text/x-python",
   "name": "python",
   "nbconvert_exporter": "python",
   "pygments_lexer": "ipython3",
   "version": "3.7.3"
  }
 },
 "nbformat": 4,
 "nbformat_minor": 5
}
