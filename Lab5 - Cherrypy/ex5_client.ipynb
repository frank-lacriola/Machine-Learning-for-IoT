{
 "cells": [
  {
   "cell_type": "code",
   "execution_count": 12,
   "id": "2a1f8b56-5f3e-4dd2-b3b1-1929442608ea",
   "metadata": {},
   "outputs": [
    {
     "name": "stdout",
     "output_type": "stream",
     "text": [
      "10/01/2022 19:26:42 40Cel 12%RH\n",
      "10/01/2022 19:27:13 40Cel 12%RH\n",
      "10/01/2022 19:27:43 40Cel 12%RH\n"
     ]
    }
   ],
   "source": [
    "import requests\n",
    "import datetime\n",
    "import time\n",
    "\n",
    "url = 'http://raspberrypi.local:8080/'\n",
    "\n",
    "for _ in range(3):\n",
    "    r = requests.get(url)\n",
    "    if r.status_code == 200:\n",
    "        body = r.json()\n",
    "        \n",
    "        ts = body['bt']\n",
    "        events = body['e']\n",
    "        for e in events:\n",
    "            if e['n'] == 'temperature':\n",
    "                temp = e['v']\n",
    "                t_unit = e['u']\n",
    "            elif e['n'] == 'humidity':\n",
    "                hum = e['v']\n",
    "                h_unit = e['u']\n",
    "                \n",
    "        date = datetime.datetime.fromtimestamp(ts)\n",
    "        print('{:02}/{:02}/{:04} {:02}:{:02}:{:02} {}{} {}{}'.format(\n",
    "            date.day, date.month, date.year, date.hour, date.minute,\\\n",
    "            date.second, temp, t_unit, hum, h_unit))\n",
    "    \n",
    "    else:\n",
    "        print('Error:', r.status_code)\n",
    "        \n",
    "    time.sleep(30)"
   ]
  },
  {
   "cell_type": "code",
   "execution_count": null,
   "id": "c0d70991-9390-4726-b4bd-e68488c25209",
   "metadata": {},
   "outputs": [],
   "source": []
  }
 ],
 "metadata": {
  "kernelspec": {
   "display_name": "Python 3 (ipykernel)",
   "language": "python",
   "name": "python3"
  },
  "language_info": {
   "codemirror_mode": {
    "name": "ipython",
    "version": 3
   },
   "file_extension": ".py",
   "mimetype": "text/x-python",
   "name": "python",
   "nbconvert_exporter": "python",
   "pygments_lexer": "ipython3",
   "version": "3.7.3"
  }
 },
 "nbformat": 4,
 "nbformat_minor": 5
}
