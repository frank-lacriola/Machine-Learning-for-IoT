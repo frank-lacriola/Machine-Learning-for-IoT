{
 "cells": [
  {
   "cell_type": "code",
   "execution_count": null,
   "metadata": {},
   "outputs": [],
   "source": [
    "!pip install cherrypy"
   ]
  },
  {
   "cell_type": "markdown",
   "metadata": {},
   "source": [
    "# Single operand service"
   ]
  },
  {
   "cell_type": "code",
   "execution_count": null,
   "metadata": {},
   "outputs": [
    {
     "name": "stderr",
     "output_type": "stream",
     "text": [
      "[10/Jan/2022:13:28:36] ENGINE Bus STARTING\n",
      "[10/Jan/2022:13:28:36] ENGINE Started monitor thread 'Autoreloader'.\n",
      "[10/Jan/2022:13:28:37] ENGINE Serving on http://0.0.0.0:8080\n",
      "[10/Jan/2022:13:28:37] ENGINE Bus STARTED\n"
     ]
    },
    {
     "name": "stdout",
     "output_type": "stream",
     "text": [
      "127.0.0.1 - - [10/Jan/2022:13:29:34] \"GET /add?op1=10&op2=12.2 HTTP/1.1\" 200 60 \"\" \"Mozilla/5.0 (Windows NT 10.0; Win64; x64) AppleWebKit/537.36 (KHTML, like Gecko) Chrome/97.0.4692.71 Safari/537.36 Edg/97.0.1072.55\"\n",
      "127.0.0.1 - - [10/Jan/2022:13:29:34] \"GET /favicon.ico HTTP/1.1\" 405 1370 \"http://localhost:8080/add?op1=10&op2=12.2\" \"Mozilla/5.0 (Windows NT 10.0; Win64; x64) AppleWebKit/537.36 (KHTML, like Gecko) Chrome/97.0.4692.71 Safari/537.36 Edg/97.0.1072.55\"\n",
      "127.0.0.1 - - [10/Jan/2022:13:30:50] \"GET /add?op1=10&op2=12.2 HTTP/1.1\" 200 60 \"\" \"Mozilla/5.0 (Windows NT 10.0; Win64; x64) AppleWebKit/537.36 (KHTML, like Gecko) Chrome/97.0.4692.71 Safari/537.36 Edg/97.0.1072.55\"\n",
      "127.0.0.1 - - [10/Jan/2022:13:30:50] \"GET /favicon.ico HTTP/1.1\" 405 1370 \"http://localhost:8080/add?op1=10&op2=12.2\" \"Mozilla/5.0 (Windows NT 10.0; Win64; x64) AppleWebKit/537.36 (KHTML, like Gecko) Chrome/97.0.4692.71 Safari/537.36 Edg/97.0.1072.55\"\n"
     ]
    }
   ],
   "source": [
    "import cherrypy\n",
    "import json\n",
    "\n",
    "class Calculator(object): \n",
    "    exposed = True \n",
    "    \n",
    "    def GET (self, *path, **query): \n",
    "        if len(path) != 1:\n",
    "            raise cherrypy.HTTPError(400, 'Wrong Path')\n",
    "        \n",
    "        if len(path) > 2:\n",
    "            raise cherrypy.HTTPError(400, 'Wrong Query')\n",
    "        \n",
    "        operation = path[0]\n",
    "        \n",
    "        operand1 = query.get('op1')\n",
    "        if operand1 is None:\n",
    "            raise cherrypy.HTTPError(400, 'op1 missing')\n",
    "        else:\n",
    "            operand1 = float(operand1)\n",
    "        \n",
    "        operand2 = query.get('op2')\n",
    "        if operand2 is None:\n",
    "            raise cherrypy.HTTPError(400, 'op2 missing')\n",
    "        else:\n",
    "            operand2 = float(operand2)\n",
    "        \n",
    "        if operation == 'add':\n",
    "            result = operand1 + operand2\n",
    "        elif operation == 'sub':\n",
    "            result = operand1 - operand2\n",
    "        elif operation == 'mul':\n",
    "            result = operand1 * operand2\n",
    "        elif operation == 'div':\n",
    "            if operand2 == 0:\n",
    "                raise cherrypy.HTTPError(400, 'op2 must be different form 0')\n",
    "            result = operand1 / operand2\n",
    "        else:\n",
    "            raise cherrypy.HTTPError(400, 'Wrong operation')\n",
    "        \n",
    "        output = {'command': operation,\n",
    "                  'op1': operand1,\n",
    "                  'op2': operand2,\n",
    "                  'result': result}\n",
    "    \n",
    "        output_json = json.dumps(output)\n",
    "        \n",
    "        return output_json\n",
    "\n",
    "    def POST (self, *path, **query):\n",
    "        pass\n",
    "    \n",
    "    def PUT (self, *path, **query):\n",
    "        pass\n",
    "        \n",
    "    def DELETE (self, *path, **query):\n",
    "        pass\n",
    " \n",
    "\n",
    "conf = {'/': {'request.dispatch': cherrypy.dispatch.MethodDispatcher()}}\n",
    "cherrypy.tree.mount(Calculator(), '', conf)\n",
    "cherrypy.config.update({'server.socket_host': '0.0.0.0'})\n",
    "cherrypy.config.update({'server.socket_port': 8080})\n",
    "cherrypy.engine.start()\n",
    "cherrypy.engine.block()"
   ]
  },
  {
   "cell_type": "markdown",
   "metadata": {},
   "source": [
    "# Single operand client"
   ]
  },
  {
   "cell_type": "code",
   "execution_count": null,
   "metadata": {
    "scrolled": true
   },
   "outputs": [],
   "source": [
    "import requests\n",
    "\n",
    "\n",
    "command = 'add'\n",
    "op1 = 2\n",
    "op2 = 4\n",
    "\n",
    "commands = {'add': '+', 'sub': '-', 'mul': '*', 'div': '/'}\n",
    "\n",
    "url = 'http://0.0.0.0:8080/{}?op1={}&op2={}'.format(command, op1, op2)\n",
    "\n",
    "r = requests.get(url)\n",
    "\n",
    "\n",
    "if r.status_code == 200:\n",
    "    body = r.json()\n",
    "    print(body['op1'], commands[body['command']], body['op2'], '=',\n",
    "            body['result'])\n",
    "else:\n",
    "    print('Error:', r.status_code)"
   ]
  },
  {
   "cell_type": "markdown",
   "metadata": {},
   "source": [
    "# Multi operande service"
   ]
  },
  {
   "cell_type": "code",
   "execution_count": null,
   "metadata": {},
   "outputs": [],
   "source": [
    "import cherrypy\n",
    "import json\n",
    "import requests\n",
    "\n",
    "class Calculator(object): \n",
    "    exposed = True \n",
    "    \n",
    "    def GET (self, *path, **query): \n",
    "        if len(path) != 1:\n",
    "            raise cherrypy.HTTPError(400, 'Wrong Path')\n",
    "        \n",
    "        if len(path) > 2:\n",
    "            raise cherrypy.HTTPError(400, 'Wrong Query')\n",
    "        \n",
    "        operation = path[0]\n",
    "        \n",
    "        operand1 = query.get('op1')\n",
    "        if operand1 is None:\n",
    "            raise cherrypy.HTTPError(400, 'op1 missing')\n",
    "        else:\n",
    "            operand1 = float(operand1)\n",
    "        \n",
    "        operand2 = query.get('op2')\n",
    "        if operand2 is None:\n",
    "            raise cherrypy.HTTPError(400, 'op2 missing')\n",
    "        else:\n",
    "            operand2 = float(operand2)\n",
    "        \n",
    "        if operation == 'add':\n",
    "            result = operand1 + operand2\n",
    "        elif operation == 'sub':\n",
    "            result = operand1 - operand2\n",
    "        elif operation == 'mul':\n",
    "            result = operand1 * operand2\n",
    "        elif operation == 'div':\n",
    "            if operand2 == 0:\n",
    "                raise cherrypy.HTTPError(400, 'op2 must be different form 0')\n",
    "            result = operand1 / operand2\n",
    "        else:\n",
    "            raise cherrypy.HTTPError(400, 'Wrong operation')\n",
    "        \n",
    "        output = {'command': operation,\n",
    "                  'op1': operand1,\n",
    "                  'op2': operand2,\n",
    "                  'result': result}\n",
    "    \n",
    "        output_json = json.dumps(output)\n",
    "        \n",
    "        return output_json\n",
    "\n",
    "    def POST (self, *path, **query):\n",
    "        pass\n",
    "    \n",
    "    def PUT (self, *path, **query):\n",
    "        operands = cherrypy.request.body.read()\n",
    "        \n",
    "    def DELETE (self, *path, **query):\n",
    "        pass\n",
    " \n",
    "\n",
    "conf = {'/': {'request.dispatch': cherrypy.dispatch.MethodDispatcher()}}\n",
    "cherrypy.tree.mount(Calculator(), '', conf)\n",
    "cherrypy.config.update({'server.socket_host': '0.0.0.0'})\n",
    "cherrypy.config.update({'server.socket_port': 8080})\n",
    "cherrypy.engine.start()\n",
    "cherrypy.engine.block()"
   ]
  },
  {
   "cell_type": "markdown",
   "metadata": {},
   "source": [
    "# Multi operand client"
   ]
  },
  {
   "cell_type": "code",
   "execution_count": null,
   "metadata": {},
   "outputs": [],
   "source": [
    "command = 'add'\n",
    "operands = [15, 6]\n",
    "\n",
    "\n",
    "url = 'http://localhost:8080'\n",
    "\n",
    "body = {'command': command, 'operands': operands}\n",
    "\n",
    "r = requests.put(url, json=body)\n",
    "\n",
    "commands = {'add': '+', 'sub': '-', 'mul': '*', 'div': '/'}\n",
    "\n",
    "if r.status_code == 200:\n",
    "    body = r.json()\n",
    "    string = commands[body['command']].join(map(str, operands))\n",
    "    print(string, '=', body['result'])\n",
    "else:\n",
    "    print('Error:', r.status_code)"
   ]
  }
 ],
 "metadata": {
  "kernelspec": {
   "display_name": "Python 3",
   "language": "python",
   "name": "python3"
  },
  "language_info": {
   "codemirror_mode": {
    "name": "ipython",
    "version": 3
   },
   "file_extension": ".py",
   "mimetype": "text/x-python",
   "name": "python",
   "nbconvert_exporter": "python",
   "pygments_lexer": "ipython3",
   "version": "3.8.5"
  }
 },
 "nbformat": 4,
 "nbformat_minor": 4
}
