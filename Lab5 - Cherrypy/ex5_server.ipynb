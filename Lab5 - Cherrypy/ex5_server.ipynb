{
 "cells": [
  {
   "cell_type": "code",
   "execution_count": null,
   "id": "d66c4856-1210-4849-b04b-6d85924991f3",
   "metadata": {},
   "outputs": [
    {
     "name": "stderr",
     "output_type": "stream",
     "text": [
      "[10/Jan/2022:19:25:45] ENGINE Bus STARTING\n",
      "[10/Jan/2022:19:25:45] ENGINE Started monitor thread 'Autoreloader'.\n",
      "[10/Jan/2022:19:25:45] ENGINE Serving on http://0.0.0.0:8080\n",
      "[10/Jan/2022:19:25:45] ENGINE Bus STARTED\n",
      "[10/Jan/2022:19:26:04] HTTP \n",
      "Traceback (most recent call last):\n",
      "  File \"/home/pi/WORK_DIR/py37/lib/python3.7/site-packages/cherrypy/_cprequest.py\", line 638, in respond\n",
      "    self._do_respond(path_info)\n",
      "  File \"/home/pi/WORK_DIR/py37/lib/python3.7/site-packages/cherrypy/_cprequest.py\", line 697, in _do_respond\n",
      "    response.body = self.handler()\n",
      "  File \"/home/pi/WORK_DIR/py37/lib/python3.7/site-packages/cherrypy/lib/encoding.py\", line 219, in __call__\n",
      "    self.body = self.oldhandler(*args, **kwargs)\n",
      "  File \"/home/pi/WORK_DIR/py37/lib/python3.7/site-packages/cherrypy/_cpdispatch.py\", line 54, in __call__\n",
      "    return self.callable(*self.args, **self.kwargs)\n",
      "  File \"<ipython-input-6-db3382614c49>\", line 21, in GET\n",
      "    'e': [{\"n\": \"temperature\", \"u\": \"Cel\", \"t\": 0, \"v\":self.dht_device.temperature},\n",
      "  File \"/home/pi/WORK_DIR/py37/lib/python3.7/site-packages/adafruit_dht.py\", line 253, in temperature\n",
      "    self.measure()\n",
      "  File \"/home/pi/WORK_DIR/py37/lib/python3.7/site-packages/adafruit_dht.py\", line 237, in measure\n",
      "    raise RuntimeError(\"Checksum did not validate. Try again.\")\n",
      "RuntimeError: Checksum did not validate. Try again.\n",
      "[10/Jan/2022:19:26:04] HTTP \n",
      "Request Headers:\n",
      "  Remote-Addr: 192.168.1.2\n",
      "  HOST: raspberrypi.local:8080\n",
      "  USER-AGENT: python-requests/2.26.0\n",
      "  ACCEPT-ENCODING: gzip, deflate\n",
      "  ACCEPT: */*\n",
      "  CONNECTION: keep-alive\n"
     ]
    },
    {
     "name": "stdout",
     "output_type": "stream",
     "text": [
      "192.168.1.2 - - [10/Jan/2022:19:26:04] \"GET / HTTP/1.1\" 500 1938 \"\" \"python-requests/2.26.0\"\n",
      "192.168.1.2 - - [10/Jan/2022:19:26:34] \"GET / HTTP/1.1\" 200 151 \"\" \"python-requests/2.26.0\"\n",
      "192.168.1.2 - - [10/Jan/2022:19:26:43] \"GET / HTTP/1.1\" 200 151 \"\" \"python-requests/2.26.0\"\n",
      "192.168.1.2 - - [10/Jan/2022:19:27:13] \"GET / HTTP/1.1\" 200 151 \"\" \"python-requests/2.26.0\"\n",
      "192.168.1.2 - - [10/Jan/2022:19:27:43] \"GET / HTTP/1.1\" 200 151 \"\" \"python-requests/2.26.0\"\n"
     ]
    }
   ],
   "source": [
    "import cherrypy\n",
    "import json\n",
    "from board import D4\n",
    "import adafruit_dht\n",
    "import datetime\n",
    "\n",
    "\n",
    "class Calculator(object):\n",
    "    exposed = True\n",
    "    def __init__(self):\n",
    "        self.dht_device = adafruit_dht.DHT11(D4)\n",
    "        \n",
    "    def GET(self, *path, **query):\n",
    "        now = datetime.datetime.now()\n",
    "        timestamp = int(now.timestamp())\n",
    "        \n",
    "        # Pack data into SENML+JSON string\n",
    "        body = {\n",
    "                    'bn': \"raspberrypi.local\", # base name\n",
    "                    'bt': timestamp, # base time\n",
    "                    'e': [{\"n\": \"temperature\", \"u\": \"Cel\", \"t\": 0, \"v\":self.dht_device.temperature},\n",
    "                          {\"n\": \"humidity\", \"u\": \"%RH\", \"t\":0, \"v\":self.dht_device.humidity}], # event object\n",
    "                }\n",
    "\n",
    "        output_json = json.dumps(body)\n",
    "\n",
    "        return output_json\n",
    "\n",
    "    def POST(self, *path, **query):\n",
    "        pass\n",
    "\n",
    "    def PUT(self, *path, **query):\n",
    "        pass\n",
    "\n",
    "    def DELETE(self, *path, **query):\n",
    "        pass\n",
    "\n",
    "\n",
    "conf = {'/': {'request.dispatch': cherrypy.dispatch.MethodDispatcher()}}\n",
    "cherrypy.tree.mount(Calculator(), '', conf)\n",
    "cherrypy.config.update({'server.socket_host': '0.0.0.0'})\n",
    "cherrypy.config.update({'server.socket_port': 8080})\n",
    "cherrypy.engine.start()\n",
    "cherrypy.engine.block()"
   ]
  },
  {
   "cell_type": "code",
   "execution_count": null,
   "id": "f8d59c20-0ef9-4042-b2e7-8a6f59aeabb5",
   "metadata": {},
   "outputs": [],
   "source": []
  }
 ],
 "metadata": {
  "kernelspec": {
   "display_name": "Python 3 (ipykernel)",
   "language": "python",
   "name": "python3"
  },
  "language_info": {
   "codemirror_mode": {
    "name": "ipython",
    "version": 3
   },
   "file_extension": ".py",
   "mimetype": "text/x-python",
   "name": "python",
   "nbconvert_exporter": "python",
   "pygments_lexer": "ipython3",
   "version": "3.7.3"
  }
 },
 "nbformat": 4,
 "nbformat_minor": 5
}
